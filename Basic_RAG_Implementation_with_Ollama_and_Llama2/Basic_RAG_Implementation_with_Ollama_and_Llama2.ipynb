{
 "cells": [
  {
   "cell_type": "code",
   "execution_count": 16,
   "id": "52bb013c-64bc-447b-876c-baf35c23c8ea",
   "metadata": {},
   "outputs": [],
   "source": [
    "from collections import Counter\n",
    "import math"
   ]
  },
  {
   "cell_type": "code",
   "execution_count": 17,
   "id": "0a519121-b9f2-4997-aac4-d5f3f27a631f",
   "metadata": {},
   "outputs": [],
   "source": [
    "corpus_of_documents = [\n",
    "    \"Take a leisurely walk in the park and enjoy the fresh air.\",\n",
    "    \"Visit a local museum and discover something new.\",\n",
    "    \"Attend a live music concert and feel the rhythm.\",\n",
    "    \"Go for a hike and admire the natural scenery.\",\n",
    "    \"Have a picnic with friends and share some laughs.\",\n",
    "    \"Explore a new cuisine by dining at an ethnic restaurant.\",\n",
    "    \"Take a yoga class and stretch your body and mind.\",\n",
    "    \"Join a local sports league and enjoy some friendly competition.\",\n",
    "    \"Attend a workshop or lecture on a topic you're interested in.\",\n",
    "    \"Visit an amusement park and ride the roller coasters.\"\n",
    "]"
   ]
  },
  {
   "cell_type": "code",
   "execution_count": 18,
   "id": "4bb5cc17-0eaa-4bca-a666-014a24b6e4dd",
   "metadata": {},
   "outputs": [],
   "source": [
    "user_query=\"is yoga good for health\""
   ]
  },
  {
   "cell_type": "code",
   "execution_count": 19,
   "id": "ea934dc4-cc9b-4e8a-b7b1-69b939dddab7",
   "metadata": {},
   "outputs": [],
   "source": [
    "def cosine_similarity(query, document):\n",
    "    # Tokenize and convert to lowercase\n",
    "    query_tokens = query.lower().split(\" \")\n",
    "    print(query_tokens)\n",
    "    document_tokens = document.lower().split(\" \")\n",
    "    print(document_tokens)\n",
    "    # Create Counters for query and document\n",
    "    query_counter = Counter(query_tokens)\n",
    "    print(query_counter)\n",
    "    document_counter = Counter(document_tokens)\n",
    "    print(document_counter)\n",
    "    # Calculate dot product\n",
    "    lst=[]\n",
    "    for token in query_counter.keys() & document_counter.keys():\n",
    "        lst.append(query_counter[token] * document_counter[token]) \n",
    "    dot_product = sum(query_counter[token] * document_counter[token] for token in query_counter.keys() & document_counter.keys())\n",
    "    # Calculate magnitudes\n",
    "    query_magnitude = math.sqrt(sum(query_counter[token] ** 2 for token in query_counter))\n",
    "    document_magnitude = math.sqrt(sum(document_counter[token] ** 2 for token in document_counter))\n",
    "\n",
    "    # Calculate cosine similarity\n",
    "    similarity = dot_product / (query_magnitude * document_magnitude) if query_magnitude * document_magnitude != 0 else 0\n",
    "    return similarity"
   ]
  },
  {
   "cell_type": "code",
   "execution_count": 20,
   "id": "1742b2d7-4af5-48a6-b5b9-c814adc554c0",
   "metadata": {},
   "outputs": [],
   "source": [
    "def return_response(query, corpus):\n",
    "    similarities = []\n",
    "    for doc in corpus:\n",
    "        similarity = cosine_similarity(query, doc)\n",
    "        similarities.append(similarity)\n",
    "    return corpus_of_documents[similarities.index(max(similarities))]"
   ]
  },
  {
   "cell_type": "code",
   "execution_count": 21,
   "id": "b1e3fe20-38c3-40b9-a9a6-61bf38f27a07",
   "metadata": {},
   "outputs": [
    {
     "name": "stdout",
     "output_type": "stream",
     "text": [
      "['is', 'yoga', 'good', 'for', 'health']\n",
      "['take', 'a', 'leisurely', 'walk', 'in', 'the', 'park', 'and', 'enjoy', 'the', 'fresh', 'air.']\n",
      "Counter({'is': 1, 'yoga': 1, 'good': 1, 'for': 1, 'health': 1})\n",
      "Counter({'the': 2, 'take': 1, 'a': 1, 'leisurely': 1, 'walk': 1, 'in': 1, 'park': 1, 'and': 1, 'enjoy': 1, 'fresh': 1, 'air.': 1})\n",
      "['is', 'yoga', 'good', 'for', 'health']\n",
      "['visit', 'a', 'local', 'museum', 'and', 'discover', 'something', 'new.']\n",
      "Counter({'is': 1, 'yoga': 1, 'good': 1, 'for': 1, 'health': 1})\n",
      "Counter({'visit': 1, 'a': 1, 'local': 1, 'museum': 1, 'and': 1, 'discover': 1, 'something': 1, 'new.': 1})\n",
      "['is', 'yoga', 'good', 'for', 'health']\n",
      "['attend', 'a', 'live', 'music', 'concert', 'and', 'feel', 'the', 'rhythm.']\n",
      "Counter({'is': 1, 'yoga': 1, 'good': 1, 'for': 1, 'health': 1})\n",
      "Counter({'attend': 1, 'a': 1, 'live': 1, 'music': 1, 'concert': 1, 'and': 1, 'feel': 1, 'the': 1, 'rhythm.': 1})\n",
      "['is', 'yoga', 'good', 'for', 'health']\n",
      "['go', 'for', 'a', 'hike', 'and', 'admire', 'the', 'natural', 'scenery.']\n",
      "Counter({'is': 1, 'yoga': 1, 'good': 1, 'for': 1, 'health': 1})\n",
      "Counter({'go': 1, 'for': 1, 'a': 1, 'hike': 1, 'and': 1, 'admire': 1, 'the': 1, 'natural': 1, 'scenery.': 1})\n",
      "['is', 'yoga', 'good', 'for', 'health']\n",
      "['have', 'a', 'picnic', 'with', 'friends', 'and', 'share', 'some', 'laughs.']\n",
      "Counter({'is': 1, 'yoga': 1, 'good': 1, 'for': 1, 'health': 1})\n",
      "Counter({'have': 1, 'a': 1, 'picnic': 1, 'with': 1, 'friends': 1, 'and': 1, 'share': 1, 'some': 1, 'laughs.': 1})\n",
      "['is', 'yoga', 'good', 'for', 'health']\n",
      "['explore', 'a', 'new', 'cuisine', 'by', 'dining', 'at', 'an', 'ethnic', 'restaurant.']\n",
      "Counter({'is': 1, 'yoga': 1, 'good': 1, 'for': 1, 'health': 1})\n",
      "Counter({'explore': 1, 'a': 1, 'new': 1, 'cuisine': 1, 'by': 1, 'dining': 1, 'at': 1, 'an': 1, 'ethnic': 1, 'restaurant.': 1})\n",
      "['is', 'yoga', 'good', 'for', 'health']\n",
      "['take', 'a', 'yoga', 'class', 'and', 'stretch', 'your', 'body', 'and', 'mind.']\n",
      "Counter({'is': 1, 'yoga': 1, 'good': 1, 'for': 1, 'health': 1})\n",
      "Counter({'and': 2, 'take': 1, 'a': 1, 'yoga': 1, 'class': 1, 'stretch': 1, 'your': 1, 'body': 1, 'mind.': 1})\n",
      "['is', 'yoga', 'good', 'for', 'health']\n",
      "['join', 'a', 'local', 'sports', 'league', 'and', 'enjoy', 'some', 'friendly', 'competition.']\n",
      "Counter({'is': 1, 'yoga': 1, 'good': 1, 'for': 1, 'health': 1})\n",
      "Counter({'join': 1, 'a': 1, 'local': 1, 'sports': 1, 'league': 1, 'and': 1, 'enjoy': 1, 'some': 1, 'friendly': 1, 'competition.': 1})\n",
      "['is', 'yoga', 'good', 'for', 'health']\n",
      "['attend', 'a', 'workshop', 'or', 'lecture', 'on', 'a', 'topic', \"you're\", 'interested', 'in.']\n",
      "Counter({'is': 1, 'yoga': 1, 'good': 1, 'for': 1, 'health': 1})\n",
      "Counter({'a': 2, 'attend': 1, 'workshop': 1, 'or': 1, 'lecture': 1, 'on': 1, 'topic': 1, \"you're\": 1, 'interested': 1, 'in.': 1})\n",
      "['is', 'yoga', 'good', 'for', 'health']\n",
      "['visit', 'an', 'amusement', 'park', 'and', 'ride', 'the', 'roller', 'coasters.']\n",
      "Counter({'is': 1, 'yoga': 1, 'good': 1, 'for': 1, 'health': 1})\n",
      "Counter({'visit': 1, 'an': 1, 'amusement': 1, 'park': 1, 'and': 1, 'ride': 1, 'the': 1, 'roller': 1, 'coasters.': 1})\n"
     ]
    }
   ],
   "source": [
    "relevant_document=return_response(user_query,corpus_of_documents)"
   ]
  },
  {
   "cell_type": "code",
   "execution_count": 22,
   "id": "d4525372-866a-43eb-8e99-7bdc53b20c06",
   "metadata": {},
   "outputs": [
    {
     "data": {
      "text/plain": [
       "'Go for a hike and admire the natural scenery.'"
      ]
     },
     "execution_count": 22,
     "metadata": {},
     "output_type": "execute_result"
    }
   ],
   "source": [
    "relevant_document"
   ]
  },
  {
   "cell_type": "code",
   "execution_count": 23,
   "id": "6123cd83-4e42-43f5-9829-3a99281be3ae",
   "metadata": {},
   "outputs": [],
   "source": [
    "#configure Ollama in local system\n",
    "#Use LLAMA2\n",
    "# augument this response by using llama2 model"
   ]
  },
  {
   "cell_type": "code",
   "execution_count": 24,
   "id": "2eff397d-8f0d-40f8-80db-3a32b61a244f",
   "metadata": {},
   "outputs": [],
   "source": [
    "import requests\n",
    "import json\n",
    "full_response = []"
   ]
  },
  {
   "cell_type": "code",
   "execution_count": 25,
   "id": "f92d0229-4f08-4b93-a0b2-f0b5aaf0d5f8",
   "metadata": {},
   "outputs": [],
   "source": [
    "prompt = \"\"\"\n",
    "You are a bot that makes recommendations for activities. You answer in very short sentences and do not include extra information.\n",
    "This is the recommended activity: {relevant_document}\n",
    "The user input is: {user_input}\n",
    "Compile a recommendation to the user based on the recommended activity and the user input.\n",
    "\"\"\""
   ]
  },
  {
   "cell_type": "code",
   "execution_count": 26,
   "id": "306b7e1b-0f20-4164-80fa-cf478f6dabd7",
   "metadata": {},
   "outputs": [],
   "source": [
    "url = 'http://localhost:11434/api/generate'"
   ]
  },
  {
   "cell_type": "code",
   "execution_count": 27,
   "id": "08db6ec9-1567-429b-9834-44d78e441b11",
   "metadata": {},
   "outputs": [],
   "source": [
    "data = {\n",
    "    \"model\": \"llama2\",\n",
    "    \"prompt\": prompt.format(user_input=user_query, relevant_document=relevant_document)\n",
    "}\n"
   ]
  },
  {
   "cell_type": "code",
   "execution_count": 28,
   "id": "33bb5c03-1b62-4a4d-8d81-d383181951c5",
   "metadata": {},
   "outputs": [],
   "source": [
    "headers = {'Content-Type': 'application/json'}"
   ]
  },
  {
   "cell_type": "code",
   "execution_count": 14,
   "id": "5fc97b74-a4fb-48e3-9aca-ca83f2a3e5ef",
   "metadata": {},
   "outputs": [],
   "source": [
    "response = requests.post(url, data=json.dumps(data), headers=headers, stream=True)"
   ]
  },
  {
   "cell_type": "code",
   "execution_count": 15,
   "id": "f08f76b8-f5f9-4c80-b91d-044ba7cf52c6",
   "metadata": {},
   "outputs": [
    {
     "name": "stdout",
     "output_type": "stream",
     "text": [
      " Sure! Here's my response:\n",
      "\n",
      "Yoga can be beneficial for your health, as it can help improve flexibility, balance, and strength. It may also reduce stress and improve overall well-being. If you're looking to combine both hiking and yoga, consider practicing some simple poses before or after your hike to enhance the experience.\n"
     ]
    }
   ],
   "source": [
    "try:\n",
    "    for line in response.iter_lines():\n",
    "        # filter out keep-alive new lines\n",
    "        if line:\n",
    "            decoded_line = json.loads(line.decode('utf-8'))\n",
    "            # print(decoded_line['response'])  # uncomment to results, token by token\n",
    "            full_response.append(decoded_line['response'])\n",
    "finally:\n",
    "    response.close()\n",
    "    \n",
    "    \n",
    "print(''.join(full_response))"
   ]
  }
 ],
 "metadata": {
  "kernelspec": {
   "display_name": "Python 3 (ipykernel)",
   "language": "python",
   "name": "python3"
  },
  "language_info": {
   "codemirror_mode": {
    "name": "ipython",
    "version": 3
   },
   "file_extension": ".py",
   "mimetype": "text/x-python",
   "name": "python",
   "nbconvert_exporter": "python",
   "pygments_lexer": "ipython3",
   "version": "3.13.5"
  }
 },
 "nbformat": 4,
 "nbformat_minor": 5
}
